{
 "cells": [
  {
   "cell_type": "markdown",
   "metadata": {},
   "source": [
    "# APIs"
   ]
  },
  {
   "cell_type": "markdown",
   "metadata": {},
   "source": [
    "**Prerequisites:** You need the `requests` and `ipyleaflet` packages for this lesson.  You should be able to install both with `conda`."
   ]
  },
  {
   "cell_type": "markdown",
   "metadata": {},
   "source": [
    "## Reading Existing Code (Google Books Query)\n",
    " - Uses the Python [`requests` library](https://2.python-requests.org/en/master/)\n",
    " - Uses the [Google Books API](https://developers.google.com/books/docs/v1/using#WorkingVolumes)\n",
    " - Searches for author \"Jake VanderPlas\" (author of my go-to Python data science book)\n",
    " - Prints out a list of book titles that match this query"
   ]
  },
  {
   "cell_type": "code",
   "execution_count": 1,
   "metadata": {},
   "outputs": [],
   "source": [
    "import requests\n",
    "\n",
    "response = requests.get(\"https://www.googleapis.com/books/v1/volumes?q=inauthor:Jake+VanderPlas\")\n"
   ]
  },
  {
   "cell_type": "code",
   "execution_count": 2,
   "metadata": {},
   "outputs": [
    {
     "name": "stdout",
     "output_type": "stream",
     "text": [
      "Python Data Science Handbook\n",
      "A Whirlwind Tour of Python\n",
      "Python Data Science Handbook\n",
      "Data Science mit Python\n",
      "Essentials of Psychology\n",
      "Psychology\n"
     ]
    }
   ],
   "source": [
    "if response.status_code == 200: #200 is an HTTP status code that means \"everything is ok\". ITs good to check the status_code in an if statement to avoid throwing and error\n",
    "    response_dict = response.json()\n",
    "\n",
    "    books = response_dict[\"items\"]\n",
    "\n",
    "    for book_dict in books:\n",
    "        info_dict = book_dict[\"volumeInfo\"]\n",
    "        print(info_dict[\"title\"])\n",
    "else:\n",
    "    print(\"Error: unable to retrieve books.  Server responded with status code\", response.status_code)"
   ]
  },
  {
   "cell_type": "markdown",
   "metadata": {},
   "source": [
    "## Exercise\n",
    "1. Query the [NASA ISS API](http://api.open-notify.org/) and print out the current latitude and longitude of the ISS\n",
    "2. Using iPyLeaflet, make a [Map](https://ipyleaflet.readthedocs.io/en/latest/api_reference/map.html) with a [Marker](https://ipyleaflet.readthedocs.io/en/latest/api_reference/marker.html) at the current location of the ISS"
   ]
  },
  {
   "cell_type": "code",
   "execution_count": 3,
   "metadata": {},
   "outputs": [
    {
     "name": "stdout",
     "output_type": "stream",
     "text": [
      "10.5596 -150.7254\n"
     ]
    }
   ],
   "source": [
    "response = requests.get('http://api.open-notify.org/iss-now.json')\n",
    "\n",
    "if response.status_code == 200: \n",
    "    response_dict = response.json()\n",
    "    \n",
    "    location_lat = response_dict[\"iss_position\"][\"latitude\"]\n",
    "    location_long = response_dict[\"iss_position\"][\"longitude\"]\n",
    "  \n",
    "    print (location_lat, location_long)\n",
    "else:\n",
    "    print(\"Error: unable to retrieve books.  Server responded with status code\", response.status_code)\n",
    "    \n",
    "    "
   ]
  },
  {
   "cell_type": "code",
   "execution_count": 25,
   "metadata": {},
   "outputs": [
    {
     "data": {
      "application/vnd.jupyter.widget-view+json": {
       "model_id": "9b8bc04ebb90496fa875a760b393e7d8",
       "version_major": 2,
       "version_minor": 0
      },
      "text/plain": [
       "Map(basemap={'url': 'https://{s}.tile.openstreetmap.org/{z}/{x}/{y}.png', 'max_zoom': 19, 'attribution': 'Map …"
      ]
     },
     "metadata": {},
     "output_type": "display_data"
    }
   ],
   "source": [
    "from ipyleaflet import Map, basemaps, basemap_to_tiles, Marker, Icon\n",
    "# center = (location_lat, location_long)\n",
    "# space_station = Map(\n",
    "#     layers=(basemap_to_tiles(basemaps.NASAGIBS.ModisTerraTrueColorCR, \"2017-04-08\"), ),\n",
    "#     center=(location_lat, location_long),\n",
    "#     zoom=4\n",
    "# )\n",
    "\n",
    "\n",
    "# marker = Marker(location=center, draggable=False)\n",
    "# m.add_layer(marker)\n",
    "\n",
    "# space_station\n",
    "\n",
    "center = (location_lat, location_long)\n",
    "\n",
    "spacestation_location = Map(center=center, zoom=0)\n",
    "icon = Icon(icon_url='https://leafletjs.com/examples/custom-icons/leaf-green.png', icon_size=[38, 95], icon_anchor=[22,94])\n",
    "marker = Marker(location=center, draggable=False, icon = icon)\n",
    "spacestation_location.add_layer(marker);\n",
    "\n",
    "spacestation_location"
   ]
  },
  {
   "cell_type": "code",
   "execution_count": null,
   "metadata": {},
   "outputs": [],
   "source": []
  },
  {
   "cell_type": "code",
   "execution_count": null,
   "metadata": {},
   "outputs": [],
   "source": []
  }
 ],
 "metadata": {
  "kernelspec": {
   "display_name": "Python 3",
   "language": "python",
   "name": "python3"
  },
  "language_info": {
   "codemirror_mode": {
    "name": "ipython",
    "version": 3
   },
   "file_extension": ".py",
   "mimetype": "text/x-python",
   "name": "python",
   "nbconvert_exporter": "python",
   "pygments_lexer": "ipython3",
   "version": "3.7.3"
  }
 },
 "nbformat": 4,
 "nbformat_minor": 4
}
